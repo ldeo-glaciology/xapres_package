{
 "cells": [
  {
   "cell_type": "markdown",
   "id": "f4571c0a-f3b5-4f5f-802f-776bae3dce6c",
   "metadata": {},
   "source": [
    "# Test of file name/number selection in xapres.load_all"
   ]
  },
  {
   "cell_type": "code",
   "execution_count": 2,
   "id": "abe65d4f-0fc5-4774-b034-b9c81fb5b876",
   "metadata": {},
   "outputs": [],
   "source": [
    "import sys\n",
    "sys.path.append(\"../../xapres_package/\")\n",
    "import ApRESDefs"
   ]
  },
  {
   "cell_type": "code",
   "execution_count": 3,
   "id": "838b9e9b-6681-4b89-a375-c00bd496dc82",
   "metadata": {},
   "outputs": [],
   "source": [
    "def test_file_selection():\n",
    "    directory='gs://ldeo-glaciology/GL_apres_2022/A101'\n",
    "    xa1 = ApRESDefs.xapres(max_range=1400)\n",
    "    xa1.load_all(directory, \n",
    "                remote_load = True,\n",
    "                file_numbers_to_process=[0,1])\n",
    "\n",
    "    xa2 = ApRESDefs.xapres(max_range=1400)\n",
    "    xa2.load_all(directory, \n",
    "                remote_load = True,\n",
    "                file_names_to_process = xa1.dat_filenames_to_process)\n",
    "\n",
    "    assert xa1.data.identical(xa2.data)"
   ]
  },
  {
   "cell_type": "code",
   "execution_count": 4,
   "id": "3f8d5d35-7eb6-48ca-ad4c-5cee64fe7e96",
   "metadata": {},
   "outputs": [],
   "source": [
    "test_file_selection()"
   ]
  },
  {
   "cell_type": "code",
   "execution_count": 24,
   "id": "7a583911",
   "metadata": {},
   "outputs": [],
   "source": [
    "#import pytest\n",
    "#from xapres_package import ApRESDefs\n",
    "import numpy\n",
    "\n",
    "# Test the loading of a single dat file from the google bucket\n",
    "\n",
    "def test_dat_file_loading():\n",
    "    directory='gs://ldeo-glaciology/GL_apres_2022/A101'\n",
    "    xa1 = ApRESDefs.xapres(max_range=1400)\n",
    "    xa1.load_all(directory, \n",
    "                remote_load = True,\n",
    "                file_numbers_to_process=[0])\n",
    "\n",
    "    assert numpy.isclose(xa1.data.profile.mean().values.real,8.093929591292018e-07)   \n",
    "    "
   ]
  },
  {
   "cell_type": "code",
   "execution_count": 25,
   "id": "8831b74b",
   "metadata": {},
   "outputs": [],
   "source": [
    "test_dat_file_loading()"
   ]
  },
  {
   "cell_type": "code",
   "execution_count": null,
   "id": "c253d7dd",
   "metadata": {},
   "outputs": [],
   "source": []
  }
 ],
 "metadata": {
  "kernelspec": {
   "display_name": "Python 3 (ipykernel)",
   "language": "python",
   "name": "python3"
  },
  "language_info": {
   "codemirror_mode": {
    "name": "ipython",
    "version": 3
   },
   "file_extension": ".py",
   "mimetype": "text/x-python",
   "name": "python",
   "nbconvert_exporter": "python",
   "pygments_lexer": "ipython3",
   "version": "3.10.8"
  },
  "vscode": {
   "interpreter": {
    "hash": "f6e3e4fdd3e8b5cf0803f6688fb4cf910bea2d93a4911237a73f72af70e10228"
   }
  }
 },
 "nbformat": 4,
 "nbformat_minor": 5
}
